{
 "cells": [
  {
   "cell_type": "raw",
   "id": "61b19cc7",
   "metadata": {
    "vscode": {
     "languageId": "raw"
    }
   },
   "source": [
    "---\n",
    "author: \"Matt Hodges\"\n",
    "title: \"Building a Neural Network From Scratch with NumPy\"\n",
    "pagetitle: \"Building a Neural Network From Scratch with NumPy\"\n",
    "subtitle: \"Let's walk through creating a Neural Network from scratch, only using NumPy, and build a model that classifies the MNIST handwritten digit data set.\"\n",
    "image: \"neural_network_social.png\"\n",
    "jupyter: python3\n",
    "date: 2023-08-06\n",
    "license-year: 2023\n",
    "---"
   ]
  },
  {
   "cell_type": "markdown",
   "id": "73cb58c1",
   "metadata": {},
   "source": [
    "This post is adapted from a Jupyter [Notebook found on GitHub](https://github.com/hodgesmr/neural_network_from_scratch).\n",
    "\n",
    "The goal of this post is to give a hands-on explanation of how Artificial Neural Networks work. I intentionally avoided frameworks like PyTorch or Tensoflow because I wanted to build a better understanding of what Machine Learning models actually are, what Neural Networks actually are, and how they can be made. This post is a collection of information I wish I had when I began this journey. It touches on a little bit of the math, but I don't deeply re-explain the math. I try to link out to more explanatory sources where I think it's valuable. Note: I am not a Machine Learning engineer, nor am I a Data Scientist. I'm a Software Engineer that turned into a political operative (lol). I wrote this for an audience of Software Engineers. Also: I don't have a GPU and I don't want to spend a bunch of money renting one from Amazon. This model can be trained and deployed on a modern CPU in a matter of minutes."
   ]
  },
  {
   "cell_type": "markdown",
   "id": "b430ab97",
   "metadata": {},
   "source": [
    "### What We'll Be Doing\n",
    "\n",
    "We're going to build a Neural Network for multi-class classification. All that means is we're going to make a model takes in images and attempts to label them from a set of options. In our case, we're going to create a Neural Network that works with the [MNIST database of handwritten digits](https://yann.lecun.com/exdb/mnist/). This database contains 70,000 images of handwritten digits, 0 - 9, and corresponding labels of which digit the handwritten image is. We'll use 60,000 of the images to train our Neural Network, and 10,000 to test its accuracy. The rest of this post assumes you have the data downloaded to a local `data/` directory.\n",
    "\n",
    "Neural Networks are particularly handy for image classification tasks. There are many other types of Machine Learning out there, but we won't spend any attention on those."
   ]
  },
  {
   "cell_type": "markdown",
   "id": "5b93954a",
   "metadata": {},
   "source": [
    "### Background Concepts"
   ]
  },
  {
   "cell_type": "markdown",
   "id": "d66bf518",
   "metadata": {},
   "source": [
    "#### Shape of a Neural Network\n",
    "\n",
    "First of all, let's demystify one thing: Neural Networks are just graphs. Just nodes and edges. If you've studied any Computer Science or have a background in Software Engineering, this is probably a familiar conecpet to you. The exact shape of any given Neural Network is dependant on how you build it, but that's something we get to decide. The graph has an **input layer** that is usually one node per input feature. In our case, **a pixel of an image is a feature**. Next, there are one or more **hidden layers**. Hidden layers are simply nodes in the graph that are in the middle. They take inputs from other nodes, and the give outputs to other nodes. This is the part that makes it Deep Learning. The presence of one or more hidden layers is the \"deep\" in Deep Learning. There's no standard rule for the size of a hidden layer, or how many you should have. Finally, there's an **output layer**. Each node in the output layer corresponds to one label. For example, if a possible label to an image is \"cat\" then one node in the output layer represents \"cat\". We're going to make a Neural Network that has a bunch of input layer nodes, a single hidden layer with ten nodes, and an output layer with ten nodes, one for each digit 0 - 9.\n",
    "\n",
    "Each Nueron (node) has a unique **Weight** and **Bias**, and each layer has an **Activation Function**. The Activation Function defines the output of a neuron given its inputs, and does not change. We'll talk more about Activation Functions below. As we train our model, we adjust the Weights and Biases.\n",
    "\n",
    "Here's are drawing of a Neural Network with three input nodes, a hidden layer with four nodes, and an output layer with two nodes. This might be how you'd construct a Neural Network that does binary classification: a model that tries to label inputs to one of two options for outputs.\n",
    "\n",
    "| ![Artificial Neural Network](artificial_neural_network.svg)|\n",
    "|:--:|\n",
    "|en:User:Cburnett, [CC BY-SA 3.0](http://creativecommons.org/licenses/by-sa/3.0/), via Wikimedia Commons|\n",
    "\n",
    "If you're looking for more explanation of the structure of Neural Networks, \"[But what is a Neural Network?](https://www.3blue1brown.com/lessons/neural-networks)\" by 3Blue1Brown is excellent."
   ]
  },
  {
   "cell_type": "markdown",
   "id": "7d38137a",
   "metadata": {},
   "source": [
    "#### How the Neural Network Learns\n",
    "\n",
    "Neural Networks start out very stupid. As we'll see, they begin with no more \"intelligence\" than random guessing. Our goal is to **iteratively adjust the network's Weights and Biases** to make it smarter. This is called **training** and we do it in two steps: **Forward Propagation** and **Back Propagation**.\n",
    "\n",
    "##### Forward Propagation\n",
    "\n",
    "Think of this step as showing the Neural Network some input, and asking it to classify it. At the beginning, it's very likely to get it wrong. But, like humans, we need to get things wrong before we know how to get them right. In Forward Propagation, we simply push all our features (pixels) through the Neural Network and ask, \"what did you see?\" The output is all the answers to that question.\n",
    "\n",
    "##### Back Propagation\n",
    "\n",
    "Think of this step as showing the Neural Network how right or wrong its answers were. We take all its answers to, \"what did you see?\" and come up with a measure of how wrong it was. We assign a numeric value to the \"how wrong was it?\" question with a [cost function](https://www.simplilearn.com/tutorials/machine-learning-tutorial/cost-function-in-machine-learning). From that numerica value, we can work backwards on all the neurons (nodes) to tell them, \"you were X wrong, and this specific neuron contributed to Y amount of that error; adjust this neuron's Weights and Biases by Z amount and try again.\"\n",
    "\n",
    "3Blue1Brown has another excellent video on the conecepts of Back Propagation: \"[What is backpropagation really doing?](https://www.3blue1brown.com/lessons/backpropagation)\" It's got some great visuals to show how Forward Propagation pushes data forward through the Neural Network, and how Back Propagation pushes error measures backwards thrrough the Neural Network.\n",
    "\n",
    "##### Training\n",
    "\n",
    "And that's it! Our Neural Network learns by repeatedly making guesses, seeing how wrong it was, and adjusting its Weights and Biases. We repeat this over and over until it is good at the task! This is a lot like how people learn. Show a small child pictures of various farm animals over and over and ask them to name the animals. At first they're very bad at it, but over time they get very good at it. There's a lot of research out there that our artifical Neural Network is structured and operates like human brain neurons."
   ]
  },
  {
   "cell_type": "markdown",
   "id": "59b585aa",
   "metadata": {},
   "source": [
    "#### Gradient Descent\n",
    "\n",
    "Gradient Descent is the most math-y piece of all this. Again, 3Blue1Brown has a great video: \"[Gradient descent, how neural networks learn](https://www.3blue1brown.com/lessons/gradient-descent)\". This is the piece that is the most _choose-your-own-adventure_ for how much you want to actually understand. I recommend diving in at least a little bit.\n",
    "\n",
    "Imagine being at a point graph and you want to find which step to take to get to the minimum value. If you've taken any calculus before, you know that you can take the slope at the current point to tell you which way the graph is trending, and by how much. If you do this over and over, with small steps, you will approach a local minimum. That's a 1-dimensional gradient descent. Our plan is to work with lots of repeated steps to get to a minumum of our [cost function](https://www.simplilearn.com/tutorials/machine-learning-tutorial/cost-function-in-machine-learning) — the function telling us how bad our predictions are.\n",
    "\n",
    "| ![Gradient Descent](GradientDescentGradientStep.svg)|\n",
    "|:--:|\n",
    "|Reducing Loss: Gradient Descent, [CC BY 4.0](https://creativecommons.org/licenses/by/4.0/), via [Google Developers](https://developers.google.com/machine-learning/crash-course/reducing-loss/gradient-descent)|\n",
    "\n",
    "You can do this in two and three domensions as well. In fact, you can do it in as many dimensions as you need, which is very handy, because image classification has lots of dimensions. Imagine a color image. Its obvious dimensions are the pixel's X value, Y value, Red value, Green value, Blue value, alpha value, and probably many more.\n",
    "\n",
    "Quick aside: **a \"tensor\" is just a matrix with a high-order of dimensions**.\n",
    "\n",
    "| ![Gradient Descent](GradientDescent.gif)|\n",
    "|:--:|\n",
    "|[CC0 1.0 Universal (CC0 1.0) Public Domain Dedication](https://creativecommons.org/publicdomain/zero/1.0/deed.en), via Wikimedia Commons|\n",
    "\n",
    "Ultimately, we keep moving downward in our many-dimensional cost function to find a minimum value. The lower the cost, the better the prediction."
   ]
  },
  {
   "cell_type": "markdown",
   "id": "e0cf0516",
   "metadata": {},
   "source": [
    "### Environment Setup\n",
    "\n",
    "As stated, we're going to build and train a fully functioning Neural Network using only **NumPy**. That said, I'm also going to install **matplotlib** just so that we can visualize some of the work as we go. It's completely unnecessary to use matplotlib.\n",
    "\n",
    "It's also worth pointing out that I'm developing this in Python 3.10. Other versions of Python 3 probably work, too."
   ]
  },
  {
   "cell_type": "code",
   "execution_count": 2,
   "id": "d4d686c5",
   "metadata": {},
   "outputs": [],
   "source": [
    "import matplotlib.pyplot as plt\n",
    "import numpy as np"
   ]
  },
  {
   "cell_type": "markdown",
   "id": "288d6894",
   "metadata": {},
   "source": [
    "### Our Data\n",
    "\n",
    "As mentioned, we're going to be working with the MNIST database of handwritten digits. This is a very handy beginner's data set because it's done a lot of the upfront work for us. First of all, the data is normalized: **all images are 28 x 28** and **grayscale**. The standard size is particularly helpful because we're going to need that to set up the input layer of our Neural Network. In other situations, you'd have to crop or squash or letterbox your images to make them a standard size. This is mostly boilerplate, but some details of the file format that you may wish to know:\n",
    "\n",
    "* The images are encoded in the [IDX file format](https://www.fon.hum.uva.nl/praat/manual/IDX_file_format.html), which looks for the presence of some magic numbers\n",
    "* There's a [documented structure](http://yann.lecun.com/exdb/mnist/) to this data set, but that website is often behind HTTP basic auth because people like to script against it; here's a [Google cache](https://webcache.googleusercontent.com/search?q=cache:yann.lecun.com/exdb/mnist/)\n",
    "* The images are gzip'd\n",
    "* The pixel values are 0 - 255, but we're going to divide them into floats 0 - 1\n",
    "\n",
    "Here, we read in all the training data. We want to structure it into a matrix where each pixel is a row (this will line up with our input layer), and each image is a column. This gives us a matrix with 784 rows (28 x 28) and 60,000 columns.\n",
    "\n",
    "This is the least intersting bit of code in the entire post."
   ]
  },
  {
   "cell_type": "code",
   "execution_count": 3,
   "id": "f92d65fc",
   "metadata": {},
   "outputs": [],
   "source": [
    "import gzip\n",
    "\n",
    "DATA_DIR = './data/'\n",
    "TEST_IMAGE_FILE_PATH = f'{DATA_DIR}/t10k-images-idx3-ubyte.gz'\n",
    "TEST_LABEL_FILE_PATH = f'{DATA_DIR}/t10k-labels-idx1-ubyte.gz'\n",
    "TRAINING_IMAGE_FILE_PATH = f'{DATA_DIR}/train-images-idx3-ubyte.gz'\n",
    "TRAINING_LABEL_FILE_PATH = f'{DATA_DIR}/train-labels-idx1-ubyte.gz'\n",
    "\n",
    "def load_images_and_labels(image_file_path, label_file_path):\n",
    "    labels = None\n",
    "    image_data = None\n",
    "\n",
    "    with gzip.open(label_file_path, 'r') as label_file:\n",
    "        # Verify magic number\n",
    "        magic_number_bytes = label_file.read(4)\n",
    "        magic_number = int.from_bytes(magic_number_bytes, byteorder='big', signed=False)\n",
    "        assert magic_number == 2049\n",
    "\n",
    "        # Read header telling us the number of labels\n",
    "        number_of_labels_bytes = label_file.read(4)\n",
    "        number_of_labels = int.from_bytes(\n",
    "            number_of_labels_bytes, byteorder='big', signed=False\n",
    "        )\n",
    "\n",
    "        buffer = label_file.read(number_of_labels)\n",
    "        labels = np.frombuffer(buffer, dtype=np.uint8)\n",
    "\n",
    "        with gzip.open(image_file_path, 'r') as image_file:\n",
    "            # Verify magic number\n",
    "            magic_number_bytes = image_file.read(4)\n",
    "            magic_number = int.from_bytes(\n",
    "                magic_number_bytes, byteorder='big', signed=False\n",
    "            )\n",
    "            assert magic_number == 2051\n",
    "\n",
    "            # Read header telling us the number of images\n",
    "            # And check that it matches the number of labels\n",
    "            number_of_images_bytes = image_file.read(4)\n",
    "            number_of_images = int.from_bytes(\n",
    "                number_of_images_bytes, byteorder='big', signed=False\n",
    "            )\n",
    "            assert number_of_images == number_of_labels\n",
    "\n",
    "            # Read the image height header\n",
    "            image_height_bytes = image_file.read(4)\n",
    "            image_height = int.from_bytes(\n",
    "                image_height_bytes, byteorder='big', signed=False\n",
    "            )\n",
    "\n",
    "            # Read the image width header\n",
    "            image_width_bytes = image_file.read(4)\n",
    "            image_width = int.from_bytes(\n",
    "                image_width_bytes, byteorder='big', signed=False\n",
    "            )\n",
    "\n",
    "            # read in the image data\n",
    "            buffer = image_file.read(image_width * image_height * number_of_images)\n",
    "            image_data = np.frombuffer(buffer, dtype=np.uint8).astype(np.float64) / 255\n",
    "\n",
    "            # Reshape it to a matrix such that each column is the pixels of the image\n",
    "            # So, we end up with a matrix with `image_width*image_height` rows and `number_of_images` colums\n",
    "            image_data = image_data.reshape(\n",
    "                number_of_images, image_width * image_height\n",
    "            ).T\n",
    "\n",
    "    return image_data, labels"
   ]
  },
  {
   "cell_type": "markdown",
   "id": "b42f3bff",
   "metadata": {},
   "source": [
    "And show the first image and label:"
   ]
  },
  {
   "cell_type": "code",
   "execution_count": 4,
   "id": "7a4764e8",
   "metadata": {},
   "outputs": [
    {
     "name": "stdout",
     "output_type": "stream",
     "text": [
      "Label: 5\n"
     ]
    },
    {
     "data": {
      "image/png": "[encoded data removed]",
      "text/plain": [
       "<Figure size 432x288 with 1 Axes>"
      ]
     },
     "metadata": {
      "needs_background": "light"
     },
     "output_type": "display_data"
    }
   ],
   "source": [
    "training_image_data, training_labels = load_images_and_labels(TRAINING_IMAGE_FILE_PATH, TRAINING_LABEL_FILE_PATH)\n",
    "first_image_data = training_image_data[:, 0].reshape((28, 28))  # All the rows in the first column, reshaped back to 28 x 28\n",
    "first_image_label = training_labels[0]\n",
    "\n",
    "print(f'Label: {first_image_label}')\n",
    "plt.imshow(first_image_data, cmap='gray_r', vmin=0, vmax=1)\n",
    "plt.show()"
   ]
  },
  {
   "cell_type": "markdown",
   "id": "4a544bb7",
   "metadata": {},
   "source": [
    "### An Untrained Neural Network\n",
    "\n",
    "#### Initializing Weights and Biases\n",
    "\n",
    "The first step in creating our Neural Network is to build out Forward Propagation. Since our Neural Network will have an input layer, one hidden layer, and an output layer, we'll need:\n",
    "* A set of Weights and Biases on the input layer\n",
    "* An Activation Function on the input layer\n",
    "* A set of Weights and Biases on the hidden layer\n",
    "* An Activation Function on the hidden layer\n",
    "\n",
    "As mentioned, the Weights and Biases are variable and are determined in the model's training process. But our model needs to start somewhere. There are a variety of strategies for initializing Weights and Biases. You could initialize to random values, but we're going to use the [He method](https://towardsdatascience.com/coding-neural-network-parameters-initialization-f7c2d770e874) to initialize random Weights, and the [common recommendation of Biases initialized to zero](https://cs231n.github.io/neural-networks-2/)."
   ]
  },
  {
   "cell_type": "code",
   "execution_count": 5,
   "id": "896d9690",
   "metadata": {},
   "outputs": [],
   "source": [
    "# weights_1 is the matrix of Weights between our input nodes and the first hidden layer\n",
    "# it has the shape num_labels x image_size\n",
    "#\n",
    "# biases_1 is the matrix of Biases between our input nodes and the first hidden layer\n",
    "# it has the shape num_labels x 1\n",
    "#\n",
    "# weights_2 is the matrix of Weights between our hidden layer and our output layer\n",
    "# it has the shape num_labels x num_labels\n",
    "#\n",
    "# biases_2 is the matrix of biases between our hidden layer and our output layer\n",
    "# it has the shape num_labels x 1\n",
    "def init_params(input_layer_size, hidden_layer_size, output_layer_size):\n",
    "    weights_1 = np.random.randn(\n",
    "        hidden_layer_size,\n",
    "        input_layer_size,\n",
    "    ) * np.sqrt(2 / input_layer_size)\n",
    "    \n",
    "    weights_2 = np.random.randn(\n",
    "        hidden_layer_size,\n",
    "        output_layer_size,\n",
    "    ) * np.sqrt(2 / hidden_layer_size)\n",
    "\n",
    "    biases_1 = np.zeros((hidden_layer_size, 1))\n",
    "    biases_2 = np.zeros((output_layer_size, 1))\n",
    "\n",
    "    return weights_1, biases_1, weights_2, biases_2"
   ]
  },
  {
   "cell_type": "markdown",
   "id": "2e96fe25",
   "metadata": {},
   "source": [
    "#### Input Layer Activation Function\n",
    "\n",
    "Next we need to select an activation function on our input layer. Common options are [sigmoid](https://en.wikipedia.org/wiki/Sigmoid_function) and [ReLU](https://en.wikipedia.org/wiki/Rectifier_%28neural_networks%29). ReLU is very effective and is a very common choice in computer vision models. Also, it's incredibly simple to implement, so we'll go with that.\n",
    "\n",
    "All it does is take a value as input, and if the value is less than 0, return 0; if the value is greater than 0, return that value. That's it! [Here's a handy post comparing ReLU to other activation functions](https://www.aitude.com/comparison-of-sigmoid-tanh-and-relu-activation-functions/)."
   ]
  },
  {
   "cell_type": "code",
   "execution_count": 6,
   "id": "527eed8a",
   "metadata": {},
   "outputs": [],
   "source": [
    "def relu(value):\n",
    "    return np.maximum(value, 0)"
   ]
  },
  {
   "cell_type": "markdown",
   "id": "111164af",
   "metadata": {},
   "source": [
    "#### Hidden Layer Activation Function\n",
    "\n",
    "The last piece we need for our Forward Propagation is an Activation Function on the hidden layer. Remember: this Activation Function is feeding to our output layer, so we need something that generates ten prediction values. A good way to do this is to take our unactivated hidden layer and normalize it such that it outputs \"prediction odds\" to our output layer. Put another way, if the model is 91% sure an input is the number 5, it should activate the 5's output node to 0.91, and the sum of all the other predictions should come to 0.09.\n",
    "\n",
    "What we've just described is called the [Softmax function](https://en.wikipedia.org/wiki/Softmax_function). The mast might look a little strange ([here's a good explainer](https://towardsdatascience.com/softmax-activation-function-explained-a7e1bc3ad60)), but all it's doing is taking in a set of numbers and normalizing them to be 0 - 1, with a sum of 1."
   ]
  },
  {
   "cell_type": "code",
   "execution_count": 7,
   "id": "66a326c3",
   "metadata": {},
   "outputs": [],
   "source": [
    "def softmax(inputs):\n",
    "    exponentiated = np.exp(inputs)\n",
    "    probabilities = exponentiated / np.sum(exponentiated, axis=0)\n",
    "    return probabilities"
   ]
  },
  {
   "cell_type": "markdown",
   "id": "4ef22ef9",
   "metadata": {},
   "source": [
    "#### Forward Propagation\n",
    "\n",
    "We can now combine our initialized Weights and Biases and our Activation Functions to define Forward Propagation. You'll notice some matrix math in here. Since our features (pixels) are arranged in a matrix, this is much more efficient that piping every pixel through functions one at a time. This becomes particularly true when you're working with Neural Networks of higher dimensions. [Here's a refresher on matrix dot product](https://www.youtube.com/watch?v=87_7YVCnAOw). But you can basically think of it as multiplying the neurons in a layer by their weights."
   ]
  },
  {
   "cell_type": "code",
   "execution_count": 8,
   "id": "33feb5fa",
   "metadata": {},
   "outputs": [],
   "source": [
    "def forward_prop(weights_1, biases_1, weights_2, biases_2, input_layer):\n",
    "    # First, calculate the unactivated values of the neurons in the first hidden layer\n",
    "    # Dot product weights_1 on input_layer, and then add biases_1\n",
    "    unactivated_hidden_layer = weights_1.dot(input_layer) + biases_1\n",
    "    # Then apply the ReLU activation function, to get our first hidden layer\n",
    "    activated_hidden_layer = relu(unactivated_hidden_layer)\n",
    "\n",
    "    # Next calculate the unactivated values of the neurons in the output layer\n",
    "    # Dot product weights_2 on activated_hidden_layer, and then add biases_2\n",
    "    unactivated_output_layer = weights_2.dot(activated_hidden_layer) + biases_2\n",
    "    # Then apply the softmax activation function, to get our activated output layer\n",
    "    output_layer = softmax(unactivated_output_layer)\n",
    "\n",
    "    return unactivated_hidden_layer, activated_hidden_layer, unactivated_output_layer, output_layer"
   ]
  },
  {
   "cell_type": "markdown",
   "id": "5faef8aa",
   "metadata": {},
   "source": [
    "This is actually all we need to do to have our model make a prediction. If we pass in a matrix of images, it'll give an `output_layer` of predicted labels. But remember, we haven't actually trained it yet, so it'll make **very bad predictions**. The two types of variables we have, the Weights and Biases, are set to random values. So this thing is going to perform with roughly 10% accuracy (randomly picking one of our ten digits). Let's see that.\n",
    "\n",
    "We can define a measure of accuracy by dividing the number of correct predictions (the labels with the highest value in `output_layer`) by total number of predictions."
   ]
  },
  {
   "cell_type": "code",
   "execution_count": 9,
   "id": "6f060dab",
   "metadata": {},
   "outputs": [],
   "source": [
    "def get_predictions(output_layer):\n",
    "    return np.argmax(output_layer, 0)  # return the index of the max value prediction\n",
    "\n",
    "\n",
    "def get_accuracy(predictions, labels):\n",
    "    return np.sum(predictions == labels) / labels.size"
   ]
  },
  {
   "cell_type": "markdown",
   "id": "695e519c",
   "metadata": {},
   "source": [
    "Here's what we get:"
   ]
  },
  {
   "cell_type": "code",
   "execution_count": 10,
   "id": "c8d57e2e",
   "metadata": {},
   "outputs": [
    {
     "name": "stdout",
     "output_type": "stream",
     "text": [
      "Accuracy: 8.22%\n"
     ]
    }
   ],
   "source": [
    "# Set up our Neural Network shape\n",
    "image_size = training_image_data.shape[0]\n",
    "num_labels = len(np.unique(training_labels))\n",
    "hidden_layer_size = num_labels\n",
    "\n",
    "# Initialize our Weights and Biases\n",
    "weights_1, biases_1, weights_2, biases_2 = init_params(image_size, hidden_layer_size, num_labels)\n",
    "\n",
    "( \n",
    "    unactivated_hidden_layer,\n",
    "    activated_hidden_layer,\n",
    "    unactivated_output_layer,\n",
    "    output_layer,\n",
    ") = forward_prop(\n",
    "    weights_1,\n",
    "    biases_1,\n",
    "    weights_2,\n",
    "    biases_2,\n",
    "    training_image_data,\n",
    ")\n",
    "\n",
    "predictions = get_predictions(output_layer)\n",
    "accuracy = get_accuracy(predictions, training_labels)\n",
    "\n",
    "print(f'Accuracy: {accuracy*100:.2f}%')"
   ]
  },
  {
   "cell_type": "markdown",
   "id": "867801b5",
   "metadata": {},
   "source": [
    "### Training the Neural Network\n",
    "\n",
    "Now that we have a stupid Neural Network, let's train it so it can become a smart Neural Network. As mentioned before, Back Propagation is the proces in which we take the predictions from Forward Propagation, measure the error, and adjust our Weights and Biases through Gradient Descent.\n",
    "\n",
    "Before we begin, we need one more helper function. We want to compare our known labels to all our predictions, and we can do that with a matrix with values of 1 (100%) at the correct index and 0 (0%) at all the incorrect indexes. We do this with [One-hot encoding](https://en.wikipedia.org/wiki/One-hot)."
   ]
  },
  {
   "cell_type": "code",
   "execution_count": 11,
   "id": "4814221a",
   "metadata": {},
   "outputs": [],
   "source": [
    "def one_hot(num_labels, labels):\n",
    "    # Create a matrix of all zeroes with shape num_images x num_labels\n",
    "    one_hot_y = np.zeros((labels.size, num_labels))\n",
    "    # For every image row, set Y'th (actual label) column to 1\n",
    "    # So, if the first row has label 5, set the 5th column to 1\n",
    "    one_hot_y[np.arange(labels.size), labels] = 1\n",
    "    # Return the Transposed matrix, so in the above example, the 5th row first column is 1\n",
    "    return one_hot_y.T"
   ]
  },
  {
   "cell_type": "code",
   "execution_count": 12,
   "id": "25609f81",
   "metadata": {},
   "outputs": [],
   "source": [
    "one_hot_output = one_hot(num_labels, training_labels)"
   ]
  },
  {
   "cell_type": "markdown",
   "id": "75e71b00",
   "metadata": {},
   "source": [
    "#### Back Propagation\n",
    "\n",
    "This is where we actually do our Gradient Descent. It contains a little bit of calculus, and I highly adivse you pause here and watch these three videos:\n",
    "* [What is backpropagation really doing?](https://www.3blue1brown.com/lessons/backpropagation)\n",
    "* [Backpropagation Calculus](https://www.3blue1brown.com/lessons/backpropagation-calculus)\n",
    "* [Backpropagation for Softmax and Multi-Class Classification | Complete Mathematical Derivation](https://www.youtube.com/watch?v=f-nW8cSa_Ec)\n",
    "\n",
    "It's actually not all that imporant to master the calculus in these videos, but it's very helpful to see what math is happening. From a high-level: we take the derivatives of our activation functions, and we reverse our matrix multiplication. It's actually not too daunting. In the end, it gives is a measurement of error, and we use that error to adjust our Weights and Biases.\n",
    "\n",
    "Speaking of derivatives, we're gonna need the derivated of our ReLU Activation Function:"
   ]
  },
  {
   "cell_type": "code",
   "execution_count": 13,
   "id": "69a64a23",
   "metadata": {},
   "outputs": [],
   "source": [
    "# rectified_linear_unit only ever has a slope of 0 (negative X), or 1 (positive X)\n",
    "def derivative_rectified_linear_unit(Z):\n",
    "    return Z > 0"
   ]
  },
  {
   "cell_type": "markdown",
   "id": "54556d3c",
   "metadata": {},
   "source": [
    "And now we just go backwards through the Neural Network:"
   ]
  },
  {
   "cell_type": "code",
   "execution_count": 14,
   "id": "a6b7cd01",
   "metadata": {},
   "outputs": [],
   "source": [
    "def back_prop(unactivated_hidden_layer, activated_hidden_layer, weights_2, output_layer, one_hot_output, training_image_data):\n",
    "    num_images = one_hot_output.size\n",
    "\n",
    "    # The difference between the predictions and the actual labels\n",
    "    d_predictions = output_layer - one_hot_output\n",
    "\n",
    "    # Take that d_predictions and cary back to the activated hidden layer\n",
    "    # And then average over all the neurons\n",
    "    d_weights_2 = (1 / num_images) * d_predictions.dot(activated_hidden_layer.T)\n",
    "\n",
    "    # Derivative of biases_ 2 is acutally just an average of the abosolute error\n",
    "    d_biases_2 = (1 / num_images) * np.sum(d_predictions)\n",
    "\n",
    "    # Derivative of unactived hidden layer\n",
    "    # Transpose the 2nd layer weights and dot on the known d_predictions\n",
    "    # And multiply that by the derivative of the activation function\n",
    "    d_hidden_layer = weights_2.T.dot(d_predictions) * derivative_rectified_linear_unit(unactivated_hidden_layer)\n",
    "\n",
    "    # Again, take our current derivative and cary it back to the input layer\n",
    "    # And average it over all the neurons\n",
    "    d_weights_1 = (1 / num_images) * d_hidden_layer.dot(training_image_data.T)\n",
    "    \n",
    "    # Derivative of biases_1 is like biases_2, but it's a simple average of the abolute error from the hiddle layer\n",
    "    d_biases_1 = (1 / num_images) * np.sum(d_hidden_layer)\n",
    "\n",
    "    return d_weights_1, d_biases_1, d_weights_2, d_biases_2"
   ]
  },
  {
   "cell_type": "markdown",
   "id": "11feffee",
   "metadata": {},
   "source": [
    "### Training Our Model\n",
    "\n",
    "#### Learning Rate\n",
    "\n",
    "We're almost ready to train our model. The last piece here is to actually update our Weights and Biases after Back Propagation. You may be tempted to simply subracts the differences returned by `back_prop` but it's not quite so simple. Remember, our Gradient Descent is good at telling us the slope at our current location, but it's very unlikely to be a straight line. Instead, we're going to want to take smaller steps so that we don't over-shoot.\n",
    "\n",
    "We need to introduce a variable called `learning_rate`, sometimes called **alpha**. This is a [hyperparameter](https://en.wikipedia.org/wiki/Hyperparameter_(machine_learning)), which simply means that our model can't learn the correct value through training; we have to set it ourselves. There are techniques to make this process more efficient, but usually it's a bit of guess and check. If your model has a very bad time improving, you should try adjusting your learning rate. Common learning rates are between 0.01 and 1. If you'd like to read more about picking a learning rate, [this is a good post](https://www.jeremyjordan.me/nn-learning-rate/).\n",
    "\n",
    "Through some trial and error, I found that a learning rate of 0.5 worked pretty well for this model."
   ]
  },
  {
   "cell_type": "code",
   "execution_count": 15,
   "id": "928e16c7",
   "metadata": {},
   "outputs": [],
   "source": [
    "learning_rate = 0.5"
   ]
  },
  {
   "cell_type": "markdown",
   "id": "25f2c39f",
   "metadata": {},
   "source": [
    "We can use this to update our Weights and Biases:"
   ]
  },
  {
   "cell_type": "code",
   "execution_count": 16,
   "id": "00d851bb",
   "metadata": {},
   "outputs": [],
   "source": [
    "def update_params(weights_1, biases_1, weights_2, biases_2, d_weights_1, d_biases_1, d_weights_2, d_biases_2, learning_rate):\n",
    "    weights_1 = weights_1 - learning_rate * d_weights_1\n",
    "    biases_1 = biases_1 - learning_rate * d_biases_1\n",
    "    weights_2 = weights_2 - learning_rate * d_weights_2\n",
    "    biases_2 = biases_2 - learning_rate * d_biases_2\n",
    "\n",
    "    return weights_1, biases_1, weights_2, biases_2"
   ]
  },
  {
   "cell_type": "markdown",
   "id": "b875c51f",
   "metadata": {},
   "source": [
    "#### Training\n",
    "\n",
    "Now let's train our model! You might recall that it'll take many iterations of Forward Propagation and Back Propagation for our model to get smart. But how many iterations? I don't actually know! Let's decide right now that we want our model to be at least 90% accurate on the training data. We've already got a function to tell us accuracy, so let's let it train until that reaches 90%.\n",
    "\n",
    "This is the slow part, and the part that often benefits from GPUs. But, as you'll see, this Neural Network trains surpisingly quickly! On my laptop with no GPU and a 2.6 GHz 6-Core Intel Core i7, the model rechease 90% accuracy on the training data in under two minutes!"
   ]
  },
  {
   "cell_type": "code",
   "execution_count": 17,
   "id": "b0f215b0",
   "metadata": {},
   "outputs": [
    {
     "name": "stdout",
     "output_type": "stream",
     "text": [
      "Iteration: 1 | Accuracy: 9.41%\n",
      "Iteration: 100 | Accuracy: 72.68%\n",
      "Iteration: 200 | Accuracy: 82.50%\n",
      "Iteration: 300 | Accuracy: 85.56%\n",
      "Iteration: 400 | Accuracy: 87.01%\n",
      "Iteration: 500 | Accuracy: 87.85%\n",
      "Iteration: 600 | Accuracy: 88.51%\n",
      "Iteration: 700 | Accuracy: 88.97%\n",
      "Iteration: 800 | Accuracy: 89.37%\n",
      "Iteration: 900 | Accuracy: 89.66%\n",
      "Iteration: 1000 | Accuracy: 89.90%\n",
      "Achieved 90.00% accuracy after 1037 iterations!\n"
     ]
    },
    {
     "data": {
      "image/png": "[encoded data removed]",
      "text/plain": [
       "<Figure size 432x288 with 1 Axes>"
      ]
     },
     "metadata": {
      "needs_background": "light"
     },
     "output_type": "display_data"
    }
   ],
   "source": [
    "image_size = training_image_data.shape[0]\n",
    "num_labels = len(np.unique(training_labels))\n",
    "hidden_layer_size = num_labels\n",
    "\n",
    "weights_1, biases_1, weights_2, biases_2 = init_params(image_size, hidden_layer_size, num_labels)\n",
    "\n",
    "accuracy = 0\n",
    "iteration = 0\n",
    "accuracy_measurements = [0]  # A running list of our accuracy for each iteration\n",
    "\n",
    "while accuracy < 0.9:\n",
    "    iteration += 1\n",
    "\n",
    "    ( \n",
    "        unactivated_hidden_layer,\n",
    "        activated_hidden_layer,\n",
    "        unactivated_output_layer,\n",
    "        output_layer,\n",
    "    ) = forward_prop(\n",
    "        weights_1,\n",
    "        biases_1,\n",
    "        weights_2,\n",
    "        biases_2,\n",
    "        training_image_data,\n",
    "    )\n",
    "\n",
    "    one_hot_output = one_hot(num_labels, training_labels)\n",
    "\n",
    "    (\n",
    "        d_weights_1,\n",
    "        d_biases_1,\n",
    "        d_weights_2,\n",
    "        d_biases_2,\n",
    "    ) = back_prop(\n",
    "        unactivated_hidden_layer,\n",
    "        activated_hidden_layer,\n",
    "        weights_2, output_layer,\n",
    "        one_hot_output,\n",
    "        training_image_data,\n",
    "    )\n",
    "\n",
    "    (\n",
    "        weights_1,\n",
    "        biases_1,\n",
    "        weights_2,\n",
    "        biases_2,\n",
    "    ) = update_params(\n",
    "        weights_1,\n",
    "        biases_1,\n",
    "        weights_2,\n",
    "        biases_2,\n",
    "        d_weights_1,\n",
    "        d_biases_1,\n",
    "        d_weights_2,\n",
    "        d_biases_2,\n",
    "        learning_rate,\n",
    "    )\n",
    "\n",
    "    predictions = get_predictions(output_layer)\n",
    "    accuracy = get_accuracy(predictions, training_labels)\n",
    "\n",
    "    accuracy_measurements.append(accuracy)\n",
    "\n",
    "    # Print out upadtes as we go\n",
    "    if iteration == 1 or iteration % 100 == 0:  \n",
    "        print(f'Iteration: {iteration} | Accuracy: {accuracy*100:.2f}%')\n",
    "\n",
    "print(f'Achieved {accuracy*100:.2f}% accuracy after {iteration} iterations!')\n",
    "\n",
    "# Plot the accuracy curve\n",
    "plt.plot(accuracy_measurements)\n",
    "plt.xlabel('Iteration')\n",
    "plt.ylabel('Accuracy')\n",
    "plt.ylim(0, 1)\n",
    "plt.show()"
   ]
  },
  {
   "cell_type": "markdown",
   "id": "dd92075c",
   "metadata": {},
   "source": [
    "Now we have the Weights and Biases for our Neural Network to achieve 90% accuracy against our training data. That's pretty cool, but the real test to to run images through the model that it's never seen before. If we overfit the model, it might only be good at recognizing the images it was trained on (kindof like cramming for a test and memorizing the answers without actually learning anything). Let's run it against our 10,000 test images. At this point we only need to run it through `forward_prop` because we're no longer training. This is very fast!"
   ]
  },
  {
   "cell_type": "code",
   "execution_count": 18,
   "id": "d6773362",
   "metadata": {},
   "outputs": [
    {
     "name": "stdout",
     "output_type": "stream",
     "text": [
      "Test Data Set Accuracy: 90.32%\n"
     ]
    }
   ],
   "source": [
    "test_image_data, test_labels = load_images_and_labels(TEST_IMAGE_FILE_PATH, TEST_LABEL_FILE_PATH)\n",
    "_, _, _, test_output_layer = forward_prop(\n",
    "        weights_1,\n",
    "        biases_1,\n",
    "        weights_2,\n",
    "        biases_2,\n",
    "        test_image_data,\n",
    "    )\n",
    "test_predictions = get_predictions(test_output_layer)\n",
    "test_accuracy = get_accuracy(test_predictions, test_labels)\n",
    "print(f'Test Data Set Accuracy: {test_accuracy*100:.2f}%')"
   ]
  },
  {
   "cell_type": "markdown",
   "id": "9abab38e",
   "metadata": {},
   "source": [
    "That's great! And let's look at a sample of 10 test images and how they were labeled:"
   ]
  },
  {
   "cell_type": "code",
   "execution_count": 19,
   "id": "ef9539d3",
   "metadata": {},
   "outputs": [
    {
     "data": {
      "image/png": "[encoded data removed]",
      "text/plain": [
       "<Figure size 720x288 with 10 Axes>"
      ]
     },
     "metadata": {
      "needs_background": "light"
     },
     "output_type": "display_data"
    }
   ],
   "source": [
    "fig, axes = plt.subplots(nrows=2, ncols=5, figsize=(10, 4))\n",
    "\n",
    "for ax in axes.flat:\n",
    "    random_index = np.random.randint(0, len(test_labels))\n",
    "    random_test_image_data = test_image_data[:, random_index].reshape((28, 28))\n",
    "    random_test_image_label = test_labels[random_index]\n",
    "    random_prediction = test_predictions[random_index]\n",
    "\n",
    "    ax.imshow(random_test_image_data, cmap='gray_r', vmin=0, vmax=1)\n",
    "    ax.set(title=f'Actual: {random_test_image_label}\\nPredicted: {random_prediction}')\n",
    "\n",
    "plt.tight_layout()\n",
    "plt.show()"
   ]
  },
  {
   "cell_type": "markdown",
   "id": "83530f88",
   "metadata": {},
   "source": [
    "Very impressive!\n",
    "\n",
    "We've successfully built a computer vision Machine Learning model using nothing but NumPy. Hopefully this demystified some of the some of the concepts of Neural Networks!  "
   ]
  },
  {
   "cell_type": "markdown",
   "id": "4045b10c",
   "metadata": {},
   "source": [
    "### Acknowledgements\n",
    "\n",
    "My first pass at tackling this topic began with Samson Zhang's \"[Building a neural network FROM SCRATCH (no Tensorflow/Pytorch, just numpy & math)](https://www.youtube.com/watch?v=w8yWXqWQYmU)\". This post looks a lot like his work, though I hit a number of implementation errors while following along. After digging into the articles and videos linked in this post, I made a number of adjustments to the model's training to get to this final output."
   ]
  },
  {
   "cell_type": "markdown",
   "id": "5313daaf",
   "metadata": {},
   "source": [
    "{{< include ../_code-license.qmd >}}"
   ]
  }
 ],
 "metadata": {
  "kernelspec": {
   "display_name": "Python 3.10.0 ('neural_network')",
   "language": "python",
   "name": "python3"
  },
  "language_info": {
   "codemirror_mode": {
    "name": "ipython",
    "version": 3
   },
   "file_extension": ".py",
   "mimetype": "text/x-python",
   "name": "python",
   "nbconvert_exporter": "python",
   "pygments_lexer": "ipython3",
   "version": "3.10.0"
  },
  "vscode": {
   "interpreter": {
    "hash": "a4d59240615bdc204a038d83f8a2e00a0f464cd267fddb0bf696d096a2823018"
   }
  }
 },
 "nbformat": 4,
 "nbformat_minor": 5
}
