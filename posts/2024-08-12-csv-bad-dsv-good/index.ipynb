{
 "cells": [
  {
   "cell_type": "raw",
   "metadata": {
    "vscode": {
     "languageId": "raw"
    }
   },
   "source": [
    "---\n",
    "author: \"Matt Hodges\"\n",
    "title: \"CSVs Are Kinda Bad. DSVs Are Kinda Good.\"\n",
    "pagetitle: \"CSVs Are Kinda Bad. DSVs Are Kinda Good.\"\n",
    "subtitle: \"I would simply use delimiter characters to delimit data.\"\n",
    "image: \"csvs-are-kinda-bad.png\"\n",
    "jupyter: python3\n",
    "date: 2024-08-13\n",
    "---"
   ]
  },
  {
   "cell_type": "markdown",
   "metadata": {},
   "source": [
    "CSVs are kinda bad. We know this, but sometimes it's helpful to remember why they're kinda bad. Maybe you need to work with CSVs and you're using Python, because Python is kinda good. And someone else somewhere wrote a CSV:"
   ]
  },
  {
   "cell_type": "code",
   "execution_count": 209,
   "metadata": {},
   "outputs": [],
   "source": [
    "import csv\n",
    "\n",
    "data = [\n",
    "    ['Name', 'Comment'],\n",
    "    ['Alice', 'She said, \"Hello\" and waved.'],\n",
    "]\n",
    "\n",
    "with open('/tmp/data.csv', 'w', newline='') as file:\n",
    "    writer = csv.writer(file, quoting=csv.QUOTE_MINIMAL)\n",
    "    writer.writerows(data)"
   ]
  },
  {
   "cell_type": "markdown",
   "metadata": {},
   "source": [
    "And you read the CSV:"
   ]
  },
  {
   "cell_type": "code",
   "execution_count": 210,
   "metadata": {},
   "outputs": [
    {
     "name": "stdout",
     "output_type": "stream",
     "text": [
      "['Name', 'Comment']\n",
      "['Alice', '\"She said', ' \"\"Hello\"\" and waved.\"']\n"
     ]
    }
   ],
   "source": [
    "with open('/tmp/data.csv', 'r') as file:\n",
    "    reader = csv.reader(file, quoting=csv.QUOTE_NONE)\n",
    "    for row in reader:\n",
    "        print(row)\n"
   ]
  },
  {
   "cell_type": "markdown",
   "metadata": {},
   "source": [
    "Oh darn, the data had a `\"` character inside the comment field and it was escaped by doubling it `\"\"` which is one way to do that but you didn't know so your reader is broken.\n",
    "\n",
    "Or maybe they wrote it this way:"
   ]
  },
  {
   "cell_type": "code",
   "execution_count": 211,
   "metadata": {},
   "outputs": [],
   "source": [
    "data = [\n",
    "    ['Name', 'Comment'],\n",
    "    ['Alice', 'She said, \"Hello\" and waved.'],\n",
    "]\n",
    "\n",
    "with open('/tmp/data.csv', 'w', newline='') as file:\n",
    "    writer = csv.writer(file, quoting=csv.QUOTE_NONE, escapechar='\\\\')\n",
    "    writer.writerows(data)"
   ]
  },
  {
   "cell_type": "markdown",
   "metadata": {},
   "source": [
    "And you read the CSV:"
   ]
  },
  {
   "cell_type": "code",
   "execution_count": 212,
   "metadata": {},
   "outputs": [
    {
     "name": "stdout",
     "output_type": "stream",
     "text": [
      "['Name', 'Comment']\n",
      "['Alice', 'She said\\\\', ' \\\\\"Hello\\\\\" and waved.']\n"
     ]
    }
   ],
   "source": [
    "with open('/tmp/data.csv', 'r') as file:\n",
    "    reader = csv.reader(file, quoting=csv.QUOTE_NONE,)\n",
    "    for row in reader:\n",
    "        print(row)"
   ]
  },
  {
   "cell_type": "markdown",
   "metadata": {},
   "source": [
    "Oh darn, you didn't get the escape character correct so now your've got a bunch of malformed data.\n",
    "\n",
    "Or maybe they wrote this CSV with a `|` delimiter because people don't type `|` very often:"
   ]
  },
  {
   "cell_type": "code",
   "execution_count": 213,
   "metadata": {},
   "outputs": [],
   "source": [
    "data = [\n",
    "    ['Name', 'Score'],\n",
    "    ['Alice', '100']\n",
    "]\n",
    "\n",
    "with open('/tmp/data.csv', 'w', newline='') as file:\n",
    "    writer = csv.writer(file, delimiter='|')\n",
    "    writer.writerows(data)"
   ]
  },
  {
   "cell_type": "markdown",
   "metadata": {},
   "source": [
    "And you read the CSV:"
   ]
  },
  {
   "cell_type": "code",
   "execution_count": 214,
   "metadata": {},
   "outputs": [
    {
     "name": "stdout",
     "output_type": "stream",
     "text": [
      "['Name|Score']\n",
      "['Alice|100']\n"
     ]
    }
   ],
   "source": [
    "with open('/tmp/data.csv', 'r') as file:\n",
    "    reader = csv.reader(file, delimiter=',')\n",
    "    for row in reader:\n",
    "        print(row)"
   ]
  },
  {
   "cell_type": "markdown",
   "metadata": {},
   "source": [
    "Oh darn, you didn't know they were being clever with the delimiter so it didn't break up the fields at all.\n",
    "\n",
    "Or maybe you got a CSV from someone who uses a Windows machine and so they tend to use `\\r\\n` for newlines:"
   ]
  },
  {
   "cell_type": "code",
   "execution_count": 215,
   "metadata": {},
   "outputs": [],
   "source": [
    "data = [\n",
    "    ['Name', 'Score'],\n",
    "    ['Alice', '100']\n",
    "]\n",
    "\n",
    "with open('/tmp/data.csv', 'w', newline='\\r\\n') as file:\n",
    "    writer = csv.writer(file)\n",
    "    writer.writerows(data)"
   ]
  },
  {
   "cell_type": "markdown",
   "metadata": {},
   "source": [
    "And you, on a not-Windows machine, read the CSV:"
   ]
  },
  {
   "cell_type": "code",
   "execution_count": 216,
   "metadata": {},
   "outputs": [
    {
     "name": "stdout",
     "output_type": "stream",
     "text": [
      "['Name', 'Score']\n",
      "[]\n",
      "['Alice', '100']\n",
      "[]\n"
     ]
    }
   ],
   "source": [
    "with open('/tmp/data.csv') as file:\n",
    "    reader = csv.reader(file)\n",
    "    for row in reader:\n",
    "        print(row)"
   ]
  },
  {
   "cell_type": "markdown",
   "metadata": {},
   "source": [
    "Oh darn, you didn't anticipate that newlines might be different across platforms, so now every other line in your data is blank.\n",
    "\n",
    "But then maybe you figure that out and you anticipate the `\\r\\n`, but then some newlines find their way into the input data:"
   ]
  },
  {
   "cell_type": "code",
   "execution_count": 217,
   "metadata": {},
   "outputs": [],
   "source": [
    "data = [\n",
    "    ['Name', 'Comment'],\n",
    "    ['Bob', 'This is a multi-line comment\\r\\nspanning two lines.']\n",
    "]\n",
    "\n",
    "with open('/tmp/data.csv', 'w', newline='\\r\\n') as file:\n",
    "    writer = csv.writer(file, quoting=csv.QUOTE_NONE, escapechar='\\\\')\n",
    "    writer.writerows(data)"
   ]
  },
  {
   "cell_type": "markdown",
   "metadata": {},
   "source": [
    "And you read the CSV:"
   ]
  },
  {
   "cell_type": "code",
   "execution_count": 218,
   "metadata": {},
   "outputs": [
    {
     "name": "stdout",
     "output_type": "stream",
     "text": [
      "['Name', 'Comment']\n",
      "['Bob', 'This is a multi-line comment\\r\\r']\n",
      "['spanning two lines.']\n"
     ]
    }
   ],
   "source": [
    "with open('/tmp/data.csv', 'r', newline='\\r\\n') as file:\n",
    "    reader = csv.reader(file, quoting=csv.QUOTE_NONE, escapechar='\\\\')\n",
    "    for row in reader:\n",
    "        print(row)"
   ]
  },
  {
   "cell_type": "markdown",
   "metadata": {},
   "source": [
    "Oh darn, you've got `CR` and line breaks and it's all a mess.\n",
    "\n",
    "But then maybe you find the Python documentation [says](https://docs.python.org/3/library/csv.html#id4) there's this one weird trick to handle newlines:\n",
    "\n",
    "> If `newline=''` is not specified, newlines embedded inside quoted fields will not be interpreted correctly, and on platforms that use `\\r\\n` linendings on write an extra `\\r` will be added. It should always be safe to specify `newline='`', since the csv module does its own (universal) newline handling.\n",
    "\n",
    "And then you go look up what [universal newlines](https://docs.python.org/3/glossary.html#term-universal-newlines) are.\n",
    "\n",
    "And then you find out that there are different [Dialects](https://docs.python.org/3/library/csv.html#csv.Dialect) of CSVs.\n",
    "\n",
    "And then you learn that Python has a [Sniffer](https://docs.python.org/3/library/csv.html#csv.Sniffer) that claims it can deduce the CSV format for you.\n",
    "\n",
    "And then you realize that the data format needs its format deduced and so now you have to become The Joker.\n",
    "\n",
    "The uninitiated reader might say, \"hah, Python is kinda bad!\" but actually Python is kinda good! The standard `csv` module _has_ to handle all these formatting options because CSVs are all one big edge case. And CSVs are all one big edge case because the decision to use commas and tabs and pipes and quotes and newlines to structure the data directly conflict with possible values of the data itself. And so we have to do escaping nonsene and quoting nonsense and line terminator nonsense.\n",
    "\n",
    "We could skip all of this if we just used a proper delimiter. ASCII has this! Go pop open any ASCII character table and you'll find these [gems](https://en.wikipedia.org/wiki/Delimiter#ASCII_delimited_text):\n",
    "\n",
    "* **28** (FS) : file separator\n",
    "* **29** (GS) : group separator\n",
    "* **30** (RS) : record separator\n",
    "* **31** (US) : unit separator\n",
    "\n",
    "And we don't even need all four of them. If we used `31` as a field delimiter and `30` instead of newlines, we solve every single edge case from above. Why? Because these are non-printing characters that should never appear in a text-stream data set.\n",
    "\n",
    "Let's try it out. Writing delimiter-separated values (I made up that name and file extension) data is very easy:"
   ]
  },
  {
   "cell_type": "code",
   "execution_count": 219,
   "metadata": {},
   "outputs": [],
   "source": [
    "from dataclasses import dataclass\n",
    "\n",
    "\n",
    "class DSV():\n",
    "    @property\n",
    "    def delimiter(cls) -> bytes:\n",
    "        return b'\\x1F'\n",
    "    \n",
    "    @property\n",
    "    def record_separator(cls) -> bytes:\n",
    "        return b'\\x1E'\n",
    "    \n",
    "    @property\n",
    "    def encoding(cls) -> str:\n",
    "        return 'utf-8'\n",
    "\n",
    "\n",
    "@dataclass\n",
    "class DSVWriter(DSV):\n",
    "    output_file: str\n",
    "\n",
    "    def write(self, data: list[list]) -> None:\n",
    "        with open(self.output_file, 'wb') as file:\n",
    "            for row in data:\n",
    "                encoded_row = self.delimiter.join(\n",
    "                    field.encode(self.encoding) for field in row\n",
    "                )\n",
    "                file.write(encoded_row + self.record_separator)\n",
    "\n"
   ]
  },
  {
   "cell_type": "markdown",
   "metadata": {},
   "source": [
    "The reader takes a bit more work to implement, since we need to buffer our input and split on our control characters:"
   ]
  },
  {
   "cell_type": "code",
   "execution_count": 220,
   "metadata": {},
   "outputs": [],
   "source": [
    "@dataclass\n",
    "class DSVReader(DSV):\n",
    "    input_file: str\n",
    "    chunk_size : str = 1024\n",
    "    _buffer: bytes = b\"\"\n",
    "\n",
    "    def read(self) -> None:\n",
    "        with open(self.input_file, 'rb') as file:\n",
    "            chunk = file.read(self.chunk_size)\n",
    "            \n",
    "            while chunk:\n",
    "                self._buffer += chunk\n",
    "\n",
    "                # Process complete records in the buffer\n",
    "                while self.record_separator in self._buffer:\n",
    "                    record, self._buffer = self._buffer.split(\n",
    "                        self.record_separator,\n",
    "                        1,\n",
    "                    )\n",
    "                    fields = record.split(self.delimiter)\n",
    "                    print([field.decode(self.encoding) for field in fields])\n",
    "                \n",
    "                chunk = file.read(self.chunk_size)\n",
    "\n",
    "            # Process any remaining data in the buffer\n",
    "            if self._buffer:\n",
    "                fields = self._buffer.split(self.delimiter)\n",
    "                print([field.decode(self.encoding) for field in fields])"
   ]
  },
  {
   "cell_type": "markdown",
   "metadata": {},
   "source": [
    "And now we can interface by simply writing and reading the data. We don't have to think about the delimiter because we've got a standard, non-conflicting delimiter. We don't have to think about newlines because we aren't using those for control characters. We also don't have to think about quotes because we also aren't using those for control characters. And we don't have to think about escaping delimiters or newlines or quotes for all those same reasons.\n",
    "\n",
    "Writing:"
   ]
  },
  {
   "cell_type": "code",
   "execution_count": 221,
   "metadata": {},
   "outputs": [],
   "source": [
    "data = [\n",
    "    ['Name', 'Comment'],\n",
    "    ['Alice', 'She said, \"Hello\" and waved.'],\n",
    "    ['Bob', 'This is a multi-line comment\\r\\nspanning two lines.'],\n",
    "    ['Charlie', 'More fun with\\ntwo lines.'],\n",
    "    ['Diana', 'How about some UTF-8: café, naïve, résumé. 📝'],\n",
    "    ['Edward', 'アップル'],\n",
    "]\n",
    "\n",
    "writer = DSVWriter('/tmp/data.dsv')\n",
    "writer.write(data)"
   ]
  },
  {
   "cell_type": "markdown",
   "metadata": {},
   "source": [
    "And reading:"
   ]
  },
  {
   "cell_type": "code",
   "execution_count": 222,
   "metadata": {},
   "outputs": [
    {
     "name": "stdout",
     "output_type": "stream",
     "text": [
      "['Name', 'Comment']\n",
      "['Alice', 'She said, \"Hello\" and waved.']\n",
      "['Bob', 'This is a multi-line comment\\r\\nspanning two lines.']\n",
      "['Charlie', 'More fun with\\ntwo lines.']\n",
      "['Diana', 'How about some UTF-8: café, naïve, résumé. 📝']\n",
      "['Edward', 'アップル']\n"
     ]
    }
   ],
   "source": [
    "reader = DSVReader('/tmp/data.dsv')\n",
    "reader.read()"
   ]
  },
  {
   "cell_type": "markdown",
   "metadata": {},
   "source": [
    "🎉 And just like that, we've got data going in and out of our writer and reader that has a bunch of weird stuff like quotes and newlines and carriage returns and we don't need to care! We didn't have to escape anything because we don't have any printable characters that would conflict with our control characters.\n",
    "\n",
    "You might have some different ideas about reader/writer functionality, or character encodings (as long as they're supersets of ASCII) or why I should be morally scolded for not implementing this in Rust, but the point is you don't have to think about the fagility of CSVs to go work on those ideas!\n",
    "\n",
    "💡 __Quick aside:__ I first learned about these ASCII delimiters while [working with `.fec` files](https://www.fec.gov/help-candidates-and-committees/filing-reports/fecfile-software/). For whatever reason, the Federal Election Commission in the United States also decided that they needed to ditch the comma, but they landed on using ASCII character `28` which is supposed to be used as a file separator not a field saparator. I have no idea why they picked that one when `31` was right there. Anyway, the FEC also has a [tool called `fs2comma.exe`](https://www.fec.gov/help-candidates-and-committees/filing-reports/data-conversion-tools/) that turns it back into a CSV format, and a couple of years I filed a FOIA request and [got the source code](https://github.com/hodgesmr/fs2comma).\n",
    "\n",
    "So what's the downside? This custom FEC tooling might give you a hint.\n",
    "\n",
    "For starters, it's rather unreadable when opened in a text editor. But I bet you don't really do that with your CSVs all that often anyway!\n",
    "\n",
    "![I opened a .dsv file in Vim](./dsv-vim.png)\n",
    "\n",
    "And Google Sheets hates the `.dsv` file extension, but remember I made that up.\n",
    "\n",
    "![I tried to open a .dsv file in Google Sheets](./dsv-google-sheets.png)\n",
    "\n",
    "And if you change it to `.csv` but tell Google Sheets to \"detect automatically\" the delimiter, it can't.\n",
    "\n",
    "![I tricked Google Sheets by changing the file extension](./dsv-fake-csv-google-sheets.png)\n",
    "\n",
    "![Google Sheets couldn't parse it](./dsv-google-sheets-bad-parse.png)\n",
    "\n",
    "And if you try to specify the delimiter yourself on the Google Sheets import it's not entirely clear how you would type a non-printable character into the textbox.\n",
    "\n",
    "![How do I type ASCII code 31 here?](./google-sheets-custom-separator.png)\n",
    "\n",
    "And if you want to use Python's `csv` module but just swap around the control characters, you can't because opinions were [hardcoded](https://docs.python.org/3/library/csv.html#csv.Dialect.lineterminator):\n",
    "\n",
    "> **Note:** The reader is hard-coded to recognise either `'\\r'` or `'\\n'` as end-of-line, and ignores lineterminator. This behavior may change in the future. \n",
    "\n",
    "And all this is to say that the major downside is we have decades of tools built around handling the weirdness of CSVs but not so many tools built around using the delimiters the creators of ASCII gave us and so depending on what you're doing it might be easier to just use the tools we have.\n",
    "\n",
    "But sometimes you're writing software that produces data on one side and consumes data on the other side and sometimes that data comes from users who are hostile, intoxicated, or both, and you just want to pass that around and not think about it and maybe the beauty of a standard from the 1960s is a better choice.\n",
    "\n",
    "Data!"
   ]
  }
 ],
 "metadata": {
  "kernelspec": {
   "display_name": "quarto",
   "language": "python",
   "name": "python3"
  },
  "language_info": {
   "codemirror_mode": {
    "name": "ipython",
    "version": 3
   },
   "file_extension": ".py",
   "mimetype": "text/x-python",
   "name": "python",
   "nbconvert_exporter": "python",
   "pygments_lexer": "ipython3",
   "version": "3.11.2"
  }
 },
 "nbformat": 4,
 "nbformat_minor": 2
}
